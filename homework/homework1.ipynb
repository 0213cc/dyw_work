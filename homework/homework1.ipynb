{
 "cells": [
  {
   "cell_type": "markdown",
   "metadata": {},
   "source": [
    "1.编写Python程序，打印\"数据科学与工程导论\"，并使用 print(chr(0x2605)) 语句将这句话包围起来。"
   ]
  },
  {
   "cell_type": "code",
   "execution_count": 25,
   "metadata": {},
   "outputs": [
    {
     "name": "stdout",
     "output_type": "stream",
     "text": [
      "★★★★★★★★★★★\n",
      "★数据科学与工程导论★\n",
      "★★★★★★★★★★★\n"
     ]
    }
   ],
   "source": [
    "print(chr(0x2605)+chr(0x2605)+chr(0x2605)+chr(0x2605)+chr(0x2605)+chr(0x2605)+chr(0x2605)+chr(0x2605)+chr(0x2605)+chr(0x2605)+chr(0x2605))\n",
    "print(chr(0x2605)+\"数据科学与工程导论\"+chr(0x2605))\n",
    "print(chr(0x2605)+chr(0x2605)+chr(0x2605)+chr(0x2605)+chr(0x2605)+chr(0x2605)+chr(0x2605)+chr(0x2605)+chr(0x2605)+chr(0x2605)+chr(0x2605))\n"
   ]
  },
  {
   "cell_type": "markdown",
   "metadata": {},
   "source": [
    "2.写一个 Python 程序，输入 x, y, z 这三个数，将这三个数从小到大使用 print 函数打印出来。"
   ]
  },
  {
   "cell_type": "code",
   "execution_count": 20,
   "metadata": {},
   "outputs": [
    {
     "name": "stdout",
     "output_type": "stream",
     "text": [
      "从小到大的顺序: [3.0, 4.0, 5.0]\n"
     ]
    }
   ],
   "source": [
    "x = float(input(\"请输入第一个数: \"))\n",
    "y = float(input(\"请输入第二个数: \"))\n",
    "z = float(input(\"请输入第三个数: \"))\n",
    "\n",
    "numbers = [x, y, z]\n",
    "numbers.sort()\n",
    "print(\"从小到大的顺序:\", numbers)\n"
   ]
  },
  {
   "cell_type": "markdown",
   "metadata": {},
   "source": [
    "3.写一个 Python 程序，有 w, x, y, z 四个数，将这四个数从大到小使用 print 函数打印出来。"
   ]
  },
  {
   "cell_type": "code",
   "execution_count": 2,
   "metadata": {},
   "outputs": [
    {
     "name": "stdout",
     "output_type": "stream",
     "text": [
      "从小到大的顺序: [7, 6, 5, 1]\n"
     ]
    }
   ],
   "source": [
    "w=6 \n",
    "x=5\n",
    "y=7\n",
    "z=1\n",
    "\n",
    "numbers = [x, y, z,w]\n",
    "numbers.sort()\n",
    "numbers.reverse()\n",
    "print(\"从大到小的顺序:\", numbers)"
   ]
  },
  {
   "cell_type": "markdown",
   "metadata": {},
   "source": [
    "4.写一个 Python 程序，输出 1-100 中的所有奇数。"
   ]
  },
  {
   "cell_type": "code",
   "execution_count": 8,
   "metadata": {},
   "outputs": [
    {
     "name": "stdout",
     "output_type": "stream",
     "text": [
      "1 3 5 7 9 11 13 15 17 19 21 23 25 27 29 31 33 35 37 39 41 43 45 47 49 51 53 55 57 59 61 63 65 67 69 71 73 75 77 79 81 83 85 87 89 91 93 95 97 99 "
     ]
    }
   ],
   "source": [
    "for number in range(1, 101, 2):\n",
    "    print(number, end=' ')"
   ]
  },
  {
   "cell_type": "markdown",
   "metadata": {},
   "source": [
    "5.写一个 Python 程序，用 for 循环，求解 1 到 100 的和。"
   ]
  },
  {
   "cell_type": "code",
   "execution_count": 4,
   "metadata": {},
   "outputs": [
    {
     "name": "stdout",
     "output_type": "stream",
     "text": [
      "5050\n"
     ]
    }
   ],
   "source": [
    "sum=0\n",
    "for i in range(1,101):\n",
    "    sum=sum+i\n",
    "print(sum)\n"
   ]
  },
  {
   "cell_type": "markdown",
   "metadata": {},
   "source": [
    "6.写一个 Python 程序，分别用 for 和 while 循环实现对一个给定序列的倒排序输出。例如，给定 L=[1,2,3,4,5]，输出为 [5,4,3,2,1]。"
   ]
  },
  {
   "cell_type": "code",
   "execution_count": 7,
   "metadata": {},
   "outputs": [
    {
     "name": "stdout",
     "output_type": "stream",
     "text": [
      "使用 for 循环倒排序输出:\n",
      "5 4 3 2 1 \n",
      "使用 while 循环倒排序输出:\n",
      "5 4 3 2 1 \n"
     ]
    }
   ],
   "source": [
    "L = [1, 2, 3, 4, 5]\n",
    "print(\"使用 for 循环倒排序输出:\")\n",
    "for i in range(len(L) - 1, -1, -1):\n",
    "    print(L[i], end=' ')\n",
    "print() \n",
    "\n",
    "\n",
    "print(\"使用 while 循环倒排序输出:\")\n",
    "index = len(L) - 1\n",
    "while index >= 0:\n",
    "    print(L[index], end=' ')\n",
    "    index -= 1\n",
    "print() \n"
   ]
  },
  {
   "cell_type": "markdown",
   "metadata": {},
   "source": [
    "7.写一个 Python 程序，判断一个输入的字符串 S 是否包含由两个或两个以上连续出现的相同字符组成的字符串。例如，abccccda 中就包含 cccc 这个由 4 个连续字符组成的字符串。"
   ]
  },
  {
   "cell_type": "code",
   "execution_count": 21,
   "metadata": {},
   "outputs": [
    {
     "name": "stdout",
     "output_type": "stream",
     "text": [
      "字符串中包含两个或两个以上连续出现的相同字符。\n"
     ]
    }
   ],
   "source": [
    "S = input(\"请输入一个字符串: \")\n",
    "\n",
    "f = False\n",
    "\n",
    "for i in range(len(S) - 1):\n",
    "    if S[i] == S[i + 1]:\n",
    "        f = True\n",
    "        break\n",
    "\n",
    "if f:\n",
    "    print(\"字符串中包含两个或两个以上连续出现的相同字符。\")\n",
    "else:\n",
    "    print(\"字符串中不包含两个或两个以上连续出现的相同字符。\")\n"
   ]
  },
  {
   "cell_type": "markdown",
   "metadata": {},
   "source": [
    "8.写一个 Python 程序，输入一个字符串 S，去掉其中所有的空格后输出。例如，“DataScience and Engineering”，去掉空格后为“DataScienceandEngineering”。"
   ]
  },
  {
   "cell_type": "code",
   "execution_count": 9,
   "metadata": {},
   "outputs": [
    {
     "name": "stdout",
     "output_type": "stream",
     "text": [
      "DataScienceandEngineering\n"
     ]
    }
   ],
   "source": [
    "S=\"DataScience and Engineering\"\n",
    "result=S.replace(\" \",\"\")\n",
    "print(result)"
   ]
  },
  {
   "cell_type": "markdown",
   "metadata": {},
   "source": [
    "9.请设计一个求 3 次方根的算法（不允许直接调用求方根的函数），并给出对应的 Python 程序。 采用牛顿迭代法求解，迭代过程数学公式表示为：\"$ x_{n+1}=x_n-\\\\frac{f(x_n)}{f^{\\\\prime}(x_n)}$\" \n"
   ]
  },
  {
   "cell_type": "code",
   "execution_count": 22,
   "metadata": {},
   "outputs": [
    {
     "name": "stdout",
     "output_type": "stream",
     "text": [
      "27.0 的三次方根是: 3.000000000000002\n"
     ]
    }
   ],
   "source": [
    "def fun(x, tolerance=1e-6):\n",
    "    guess = x / 2.0\n",
    "    while True:\n",
    "        new_guess = guess - (guess**3 -x) / (3 * guess**2)\n",
    "        \n",
    "        if abs(new_guess - guess) < tolerance:\n",
    "            return new_guess\n",
    "        guess = new_guess\n",
    "\n",
    "number = float(input(\"请输入一个数: \"))\n",
    "\n",
    "result = fun(number)\n",
    "\n",
    "print(f\"{number} 的三次方根是: {result}\")\n"
   ]
  },
  {
   "cell_type": "markdown",
   "metadata": {},
   "source": [
    "10.写一个 Python 程序，给定一个常数 n（n>0），求 n 的阶乘，即 n!=1×2×...×(n-1)×n。例如，4!=24，5!=120。"
   ]
  },
  {
   "cell_type": "code",
   "execution_count": 24,
   "metadata": {},
   "outputs": [
    {
     "name": "stdout",
     "output_type": "stream",
     "text": [
      "5! = 120\n"
     ]
    }
   ],
   "source": [
    "def fun(n):\n",
    "    result = 1\n",
    "    for i in range(1, n + 1):\n",
    "        result *= i\n",
    "    return result\n",
    "\n",
    "n = int(input(\"请输入一个正整数 n: \"))\n",
    "\n",
    "print(f\"{n}! = {fun(n)}\")\n"
   ]
  }
 ],
 "metadata": {
  "kernelspec": {
   "display_name": "Python 3",
   "language": "python",
   "name": "python3"
  },
  "language_info": {
   "codemirror_mode": {
    "name": "ipython",
    "version": 3
   },
   "file_extension": ".py",
   "mimetype": "text/x-python",
   "name": "python",
   "nbconvert_exporter": "python",
   "pygments_lexer": "ipython3",
   "version": "3.12.2"
  }
 },
 "nbformat": 4,
 "nbformat_minor": 2
}

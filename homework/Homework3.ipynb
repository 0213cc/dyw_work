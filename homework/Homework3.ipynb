{
 "cells": [
  {
   "cell_type": "markdown",
   "metadata": {},
   "source": [
    "1.编写 Python程序,判断输入a是否为质数"
   ]
  },
  {
   "cell_type": "code",
   "execution_count": 4,
   "metadata": {},
   "outputs": [
    {
     "name": "stdout",
     "output_type": "stream",
     "text": [
      "7 是质数\n"
     ]
    }
   ],
   "source": [
    "def fun1(x):\n",
    "    if x<2:\n",
    "     return False\n",
    "    for i in range(2,int(x**0.5)+1):\n",
    "        if x%i==0:\n",
    "         return False\n",
    "    return True\n",
    "    \n",
    "x=int(input(\"输入一个数:\"))\n",
    "if fun1(x):\n",
    "    print(x,\"是质数\")\n",
    "else:\n",
    "    print(x,\"不是质数\")"
   ]
  },
  {
   "cell_type": "markdown",
   "metadata": {},
   "source": [
    "2.用Python实现插入排序该算法，不允许直接调用插入排序函数，需要手动实现其逻辑过程。"
   ]
  },
  {
   "cell_type": "code",
   "execution_count": 6,
   "metadata": {},
   "outputs": [
    {
     "name": "stdout",
     "output_type": "stream",
     "text": [
      "排序后数组： [3, 4, 7, 15, 18, 20]\n"
     ]
    }
   ],
   "source": [
    "def fun2(arr):\n",
    "    for i in range(1,len(arr)):\n",
    "        k=arr[i]\n",
    "        j=i-1\n",
    "        while j>=0 and k<arr[j]:\n",
    "            arr[j+1]=arr[j]\n",
    "            j-=1\n",
    "        arr[j+1]=k\n",
    "\n",
    "arr =[15,18,4,7,20,3]\n",
    "fun2(arr)\n",
    "print(\"排序后数组：\",arr)"
   ]
  },
  {
   "cell_type": "markdown",
   "metadata": {},
   "source": [
    "3.用Python实现选择排序该算法，不允许直接调用插入排序函数，需要手动实现其逻辑过程。"
   ]
  },
  {
   "cell_type": "code",
   "execution_count": 10,
   "metadata": {},
   "outputs": [
    {
     "name": "stdout",
     "output_type": "stream",
     "text": [
      "排序后数组： [3, 4, 7, 15, 18, 20]\n"
     ]
    }
   ],
   "source": [
    "def fun3(arr):\n",
    "    for i in range(len(arr)):\n",
    "        min=i\n",
    "        for j in range(i+1,len(arr)):\n",
    "            if(arr[j]<arr[min]):\n",
    "             min=j\n",
    "        arr[i], arr[min]=arr[min],arr[i]\n",
    "\n",
    "arr =[15,18,4,7,20,3]\n",
    "fun3(arr)\n",
    "print(\"排序后数组：\",arr)"
   ]
  },
  {
   "cell_type": "markdown",
   "metadata": {},
   "source": [
    "4.用Python实现快速排序该算法，不允许直接调用插入排序函数，需要手动实现其逻辑过程。"
   ]
  },
  {
   "cell_type": "code",
   "execution_count": 12,
   "metadata": {},
   "outputs": [
    {
     "name": "stdout",
     "output_type": "stream",
     "text": [
      "排序后数组： [3, 4, 7, 15, 18, 20]\n"
     ]
    }
   ],
   "source": [
    "def fun4(arr):\n",
    "    if(len(arr)<=1):\n",
    "     return arr\n",
    "    k=arr[len(arr)//2]\n",
    "    left=[x for x in arr if x<k]\n",
    "    right=[x for x in arr if x>k]\n",
    "    middle=[x for x in arr if x==k]\n",
    "    return fun4(left)+fun4(middle)+fun4(right)\n",
    "\n",
    "\n",
    "arr =[15,18,4,7,20,3]\n",
    "fun3(arr)\n",
    "print(\"排序后数组：\",arr)"
   ]
  },
  {
   "cell_type": "markdown",
   "metadata": {},
   "source": [
    "5.使用 Python 随机生成三组长度递增的随机数列，长度分别为100、1000、10000，对生成的随机数组使用不同的排序算法，例如选择排序和归并排序，至少三种排序方法。对这些数列的数据排序，并分析不同排序算法在不同长度数列下的运行效果，例如运行时间等指标。"
   ]
  },
  {
   "cell_type": "code",
   "execution_count": 13,
   "metadata": {},
   "outputs": [
    {
     "name": "stdout",
     "output_type": "stream",
     "text": [
      "\n",
      "数组大小:100\n",
      "插入排序耗时： 0.0\n",
      "选择排序耗时： 0.0010428428649902344\n",
      "归并排序耗时： 0.0\n",
      "\n",
      "数组大小:1000\n",
      "插入排序耗时： 0.01907658576965332\n",
      "选择排序耗时： 0.015987157821655273\n",
      "归并排序耗时： 0.008012771606445312\n",
      "\n",
      "数组大小:10000\n",
      "插入排序耗时： 2.322878837585449\n",
      "选择排序耗时： 2.3711655139923096\n",
      "归并排序耗时： 0.02400040626525879\n"
     ]
    }
   ],
   "source": [
    "import random\n",
    "import time\n",
    "\n",
    "arr1 = random.sample(range(10000), 100)\n",
    "arr2 = random.sample(range(100000), 1000)\n",
    "arr3 = random.sample(range(1000000), 10000)\n",
    "\n",
    "def insertion_sort(arr):\n",
    "    for i in range(1, len(arr)):\n",
    "        key = arr[i]\n",
    "        j = i - 1\n",
    "        while j >= 0 and key < arr[j]:\n",
    "            arr[j + 1] = arr[j]\n",
    "            j -= 1\n",
    "        arr[j + 1] = key\n",
    "\n",
    "def selection_sort(arr):\n",
    "    for i in range(len(arr)):\n",
    "        min_idx = i\n",
    "        for j in range(i + 1, len(arr)):\n",
    "            if arr[j] < arr[min_idx]:\n",
    "                min_idx = j\n",
    "        arr[i], arr[min_idx] = arr[min_idx], arr[i]\n",
    "\n",
    "def merge_sort(arr):\n",
    "    if len(arr) <= 1:\n",
    "        return arr\n",
    "    mid = len(arr) // 2\n",
    "    left = merge_sort(arr[:mid])\n",
    "    right = merge_sort(arr[mid:])\n",
    "    return merge(left, right)\n",
    "\n",
    "def merge(left, right):\n",
    "    result = []\n",
    "    i = j = 0\n",
    "    while i < len(left) and j < len(right):\n",
    "        if left[i] < right[j]:\n",
    "            result.append(left[i])\n",
    "            i += 1\n",
    "        else:\n",
    "            result.append(right[j])\n",
    "            j += 1\n",
    "    result.extend(left[i:])\n",
    "    result.extend(right[j:])\n",
    "    return result\n",
    "\n",
    "def time_sorting_algorithm(algorithm, arr):\n",
    "    start_time = time.time()\n",
    "    algorithm(arr.copy())\n",
    "    end_time = time.time()\n",
    "    return end_time - start_time\n",
    "\n",
    "# 计算不同排序算法的运行时间\n",
    "for arr, size in [(arr1, 100), (arr2, 1000), (arr3, 10000)]:\n",
    "    print(f\"\\n数组大小:{size}\")\n",
    "    print(\"插入排序耗时：\", time_sorting_algorithm(insertion_sort, arr))\n",
    "    print(\"选择排序耗时：\", time_sorting_algorithm(selection_sort, arr))\n",
    "    print(\"归并排序耗时：\", time_sorting_algorithm(merge_sort, arr))\n"
   ]
  },
  {
   "cell_type": "markdown",
   "metadata": {},
   "source": [
    "6.使用python代码获取当前系统时间"
   ]
  },
  {
   "cell_type": "code",
   "execution_count": 14,
   "metadata": {},
   "outputs": [
    {
     "name": "stdout",
     "output_type": "stream",
     "text": [
      "当前系统时间： 2024-10-15 14:22:07.051577\n"
     ]
    }
   ],
   "source": [
    "import datetime\n",
    "\n",
    "current_time = datetime.datetime.now()\n",
    "print(\"当前系统时间：\", current_time)\n"
   ]
  },
  {
   "cell_type": "markdown",
   "metadata": {},
   "source": [
    "7.homework/data文件夹下的stuGrade.csv文件中包含5位同学的学号、语文成绩、数学成绩和英语成绩，请先用记事本打开该文件，查看文件内容，然后编写Python程序，读取该文件，并计算出各科的平均成绩（保留2位小数）。"
   ]
  },
  {
   "cell_type": "code",
   "execution_count": 2,
   "metadata": {},
   "outputs": [
    {
     "name": "stdout",
     "output_type": "stream",
     "text": [
      "语文平均成绩：82.60\n",
      "数学平均成绩：81.00\n",
      "英语平均成绩：81.80\n"
     ]
    }
   ],
   "source": [
    "import csv\n",
    "import time\n",
    "import datetime\n",
    "def fun7(filename):\n",
    "    with open(filename, mode='r') as file:\n",
    "        csv_reader = csv.DictReader(file)\n",
    "        chinese_sum = math_sum = english_sum = 0\n",
    "        count = 0\n",
    "        \n",
    "        for row in csv_reader:\n",
    "            chinese_sum += float(row['chinese'])\n",
    "            math_sum += float(row['math'])\n",
    "            english_sum += float(row['english'])\n",
    "            count += 1\n",
    "        \n",
    "        print(f\"语文平均成绩：{chinese_sum / count:.2f}\")\n",
    "        print(f\"数学平均成绩：{math_sum / count:.2f}\")\n",
    "        print(f\"英语平均成绩：{english_sum / count:.2f}\")\n",
    "        chinese_avg = chinese_sum / count\n",
    "        math_avg = math_sum / count\n",
    "        english_avg = english_sum / count\n",
    "        line1 = f\"{10235501464} {\"丁印威\"}\\n\"\n",
    "        line2 = f\"{chinese_avg:.2f},{math_avg:.2f},{english_avg:.2f}\\n\"\n",
    "        current_time = datetime.datetime.now().strftime(\"%Y-%m-%d %H:%M:%S\")\n",
    "        line3 = f\"{current_time}\\n\"\n",
    "        time.sleep(2)\n",
    "        time_after_2_seconds = datetime.datetime.now().strftime(\"%Y-%m-%d %H:%M:%S\")\n",
    "        line4 = f\"{time_after_2_seconds}\\n\"\n",
    "        content = line1 + line2 + line3 + line4\n",
    "\n",
    "        with open(\"my.txt\", \"w\", encoding='utf-8') as file2:\n",
    "            file2.write(content) \n",
    "fun7('data/stuGrade.csv')\n"
   ]
  },
  {
   "cell_type": "markdown",
   "metadata": {},
   "source": [
    "8.请在第7题的代码继续编写Python程序，将以下内容写入my.txt文件中，一并上传到github中。"
   ]
  }
 ],
 "metadata": {
  "kernelspec": {
   "display_name": "Python 3",
   "language": "python",
   "name": "python3"
  },
  "language_info": {
   "codemirror_mode": {
    "name": "ipython",
    "version": 3
   },
   "file_extension": ".py",
   "mimetype": "text/x-python",
   "name": "python",
   "nbconvert_exporter": "python",
   "pygments_lexer": "ipython3",
   "version": "3.12.2"
  }
 },
 "nbformat": 4,
 "nbformat_minor": 2
}
